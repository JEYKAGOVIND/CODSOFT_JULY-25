{
 "cells": [
  {
   "cell_type": "code",
   "execution_count": 2,
   "id": "a25325e1-d6e6-4815-bf61-e02d4fcbcb93",
   "metadata": {},
   "outputs": [
    {
     "name": "stdout",
     "output_type": "stream",
     "text": [
      "Chatbot: Hello! How can I help you today? (Type 'bye' or 'exit' to quit)\n"
     ]
    },
    {
     "name": "stdin",
     "output_type": "stream",
     "text": [
      "You:  HELLO\n"
     ]
    },
    {
     "name": "stdout",
     "output_type": "stream",
     "text": [
      "Chatbot: Hi there! How can I assist you?\n"
     ]
    },
    {
     "name": "stdin",
     "output_type": "stream",
     "text": [
      "You:  DATE\n"
     ]
    },
    {
     "name": "stdout",
     "output_type": "stream",
     "text": [
      "Chatbot: Today's date is July 14, 2025.\n"
     ]
    },
    {
     "name": "stdin",
     "output_type": "stream",
     "text": [
      "You:  JOKE\n"
     ]
    },
    {
     "name": "stdout",
     "output_type": "stream",
     "text": [
      "Chatbot: Why don't scientists trust atoms? Because they make up everything!\n"
     ]
    },
    {
     "name": "stdin",
     "output_type": "stream",
     "text": [
      "You:  BYE\n"
     ]
    },
    {
     "name": "stdout",
     "output_type": "stream",
     "text": [
      "Chatbot: Goodbye! Have a great day!\n"
     ]
    }
   ],
   "source": [
    "def chatbot():\n",
    "    print(\"Chatbot: Hello! How can I help you today? (Type 'bye' or 'exit' to quit)\")\n",
    "\n",
    "    while True:\n",
    "        user_input = input(\"You: \").lower()\n",
    "\n",
    "        if \"hello\" in user_input or \"hi\" in user_input:\n",
    "            print(\"Chatbot: Hi there! How can I assist you?\")\n",
    "        elif \"your name\" in user_input:\n",
    "            print(\"Chatbot: I am a simple chatbot created to chat with you!\")\n",
    "        elif \"how are you\" in user_input:\n",
    "            print(\"Chatbot: I'm just a program, but I'm functioning as expected. How about you?\")\n",
    "        elif \"i'm fine\" in user_input or \"i am fine\" in user_input or \"doing good\" in user_input:\n",
    "            print(\"Chatbot: That's great to hear!\")\n",
    "        elif \"what can you do\" in user_input:\n",
    "            print(\"Chatbot: I can chat with you, answer basic questions, and keep you company!\")\n",
    "        elif \"thank you\" in user_input or \"thanks\" in user_input:\n",
    "            print(\"Chatbot: You're welcome!\")\n",
    "        elif \"time\" in user_input:\n",
    "            from datetime import datetime\n",
    "            current_time = datetime.now().strftime(\"%I:%M %p\")\n",
    "            print(f\"Chatbot: The current time is {current_time}.\")\n",
    "        elif \"date\" in user_input:\n",
    "            from datetime import datetime\n",
    "            current_date = datetime.now().strftime(\"%B %d, %Y\")\n",
    "            print(f\"Chatbot: Today's date is {current_date}.\")\n",
    "        elif \"joke\" in user_input:\n",
    "            print(\"Chatbot: Why don't scientists trust atoms? Because they make up everything!\")\n",
    "        elif \"bye\" in user_input or \"exit\" in user_input:\n",
    "            print(\"Chatbot: Goodbye! Have a great day!\")\n",
    "            break\n",
    "        else:\n",
    "            print(\"Chatbot: Sorry, I don't understand that. Try asking something else.\")\n",
    "\n",
    "# Run the chatbot\n",
    "chatbot()\n"
   ]
  },
  {
   "cell_type": "code",
   "execution_count": null,
   "id": "18ed7869-2a2c-40f9-810f-01e48e2d1e68",
   "metadata": {},
   "outputs": [],
   "source": []
  }
 ],
 "metadata": {
  "kernelspec": {
   "display_name": "Python 3 (ipykernel)",
   "language": "python",
   "name": "python3"
  },
  "language_info": {
   "codemirror_mode": {
    "name": "ipython",
    "version": 3
   },
   "file_extension": ".py",
   "mimetype": "text/x-python",
   "name": "python",
   "nbconvert_exporter": "python",
   "pygments_lexer": "ipython3",
   "version": "3.13.2"
  }
 },
 "nbformat": 4,
 "nbformat_minor": 5
}

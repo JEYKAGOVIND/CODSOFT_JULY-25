{
 "cells": [
  {
   "cell_type": "code",
   "execution_count": 1,
   "id": "9872bcff-9ca5-4807-8b32-528196822a27",
   "metadata": {},
   "outputs": [
    {
     "name": "stdout",
     "output_type": "stream",
     "text": [
      "1       Interstellar\n",
      "3         The Matrix\n",
      "2    The Dark Knight\n",
      "4             Avatar\n",
      "Name: title, dtype: object\n"
     ]
    }
   ],
   "source": [
    "import pandas as pd\n",
    "from sklearn.feature_extraction.text import TfidfVectorizer\n",
    "from sklearn.metrics.pairwise import cosine_similarity\n",
    "\n",
    "def recommend_movies(movie_title, movies_df, num_recommendations=5):\n",
    "    # Convert genres into a TF-IDF matrix\n",
    "    tfidf = TfidfVectorizer(stop_words='english')\n",
    "    tfidf_matrix = tfidf.fit_transform(movies_df['genres'].fillna(''))\n",
    "    \n",
    "    # Compute cosine similarity\n",
    "    cosine_sim = cosine_similarity(tfidf_matrix, tfidf_matrix)\n",
    "    \n",
    "    # Get the index of the movie\n",
    "    idx = movies_df[movies_df['title'] == movie_title].index[0]\n",
    "    \n",
    "    # Get similarity scores\n",
    "    sim_scores = list(enumerate(cosine_sim[idx]))\n",
    "    sim_scores = sorted(sim_scores, key=lambda x: x[1], reverse=True)[1:num_recommendations+1]\n",
    "    \n",
    "    # Get recommended movie titles\n",
    "    movie_indices = [i[0] for i in sim_scores]\n",
    "    return movies_df['title'].iloc[movie_indices]\n",
    "\n",
    "# Example dataset\n",
    "movies_data = {\n",
    "    'title': [\"Inception\", \"Interstellar\", \"The Dark Knight\", \"The Matrix\", \"Avatar\"],\n",
    "    'genres': [\"Sci-Fi Thriller\", \"Sci-Fi Adventure\", \"Action Crime Thriller\", \"Sci-Fi Action\", \"Fantasy Adventure\"]\n",
    "}\n",
    "movies_df = pd.DataFrame(movies_data)\n",
    "\n",
    "# Example usage\n",
    "print(recommend_movies(\"Inception\", movies_df))"
   ]
  },
  {
   "cell_type": "code",
   "execution_count": null,
   "id": "13c7a54b-fe45-47fe-94ad-394b2f586afb",
   "metadata": {},
   "outputs": [],
   "source": []
  }
 ],
 "metadata": {
  "kernelspec": {
   "display_name": "Python 3 (ipykernel)",
   "language": "python",
   "name": "python3"
  },
  "language_info": {
   "codemirror_mode": {
    "name": "ipython",
    "version": 3
   },
   "file_extension": ".py",
   "mimetype": "text/x-python",
   "name": "python",
   "nbconvert_exporter": "python",
   "pygments_lexer": "ipython3",
   "version": "3.13.2"
  }
 },
 "nbformat": 4,
 "nbformat_minor": 5
}

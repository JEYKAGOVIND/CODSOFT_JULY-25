{
 "cells": [
  {
   "cell_type": "code",
   "execution_count": null,
   "id": "36f0c2cd-3b04-4a95-8f15-2e1adf9571a3",
   "metadata": {},
   "outputs": [],
   "source": [
    "pip install opencv-python\n"
   ]
  },
  {
   "cell_type": "code",
   "execution_count": null,
   "id": "429a1368-c250-48bd-87d1-2d1a2164be26",
   "metadata": {},
   "outputs": [],
   "source": [
    "import cv2\n",
    "\n",
    "face_cascade = cv2.CascadeClassifier(cv2.data.haarcascades + 'haarcascade_frontalface_default.xml')\n",
    "img = cv2.imread(r\"C:\\Users\\jeyka\\INTERNSHIP 2025\\CODSOFT JULY'25\\CS_AI_TASK5\\PEOPLE.jpg\")\n",
    "\n"
   ]
  },
  {
   "cell_type": "code",
   "execution_count": null,
   "id": "3a566b8a-e979-46c2-a9f6-01d76a5c13fc",
   "metadata": {},
   "outputs": [],
   "source": [
    "# Convert to grayscale\n",
    "gray = cv2.cvtColor(img, cv2.COLOR_BGR2GRAY)\n",
    "\n",
    "# Detect faces\n",
    "faces = face_cascade.detectMultiScale(gray, scaleFactor=1.1, minNeighbors=5)\n",
    "\n",
    "# Draw bounding boxes\n",
    "for (x, y, w, h) in faces:\n",
    "    cv2.rectangle(img, (x, y), (x+w, y+h), (255, 0, 0), 2)\n",
    "\n",
    "# Show image\n",
    "cv2.imshow('Face Detection', img)\n",
    "cv2.waitKey(0)\n",
    "cv2.destroyAllWindows()\n"
   ]
  },
  {
   "cell_type": "code",
   "execution_count": null,
   "id": "e1fe72ed-3058-4887-b734-26f3cb9b88ae",
   "metadata": {},
   "outputs": [],
   "source": [
    "pip install face_recognition\n"
   ]
  },
  {
   "cell_type": "code",
   "execution_count": null,
   "id": "0babbb9f-29cf-407a-9d3c-cdc15070cbce",
   "metadata": {},
   "outputs": [],
   "source": [
    "import face_recognition\n",
    "import cv2\n",
    "\n",
    "# Load known image and encode\n",
    "known_image = face_recognition.load_image_file(\"jeyka.jpg\")\n",
    "known_encoding = face_recognition.face_encodings(known_image)[0]\n",
    "\n",
    "# Load unknown image\n",
    "unknown_image = face_recognition.load_image_file(\"group_photo.jpg\")\n",
    "unknown_encodings = face_recognition.face_encodings(unknown_image)\n",
    "\n",
    "# Compare faces\n",
    "for face_encoding in unknown_encodings:\n",
    "    results = face_recognition.compare_faces([known_encoding], face_encoding)\n",
    "    print(\"Is this Jeyka?\", results[0])\n"
   ]
  }
 ],
 "metadata": {
  "kernelspec": {
   "display_name": "Python 3 (ipykernel)",
   "language": "python",
   "name": "python3"
  },
  "language_info": {
   "codemirror_mode": {
    "name": "ipython",
    "version": 3
   },
   "file_extension": ".py",
   "mimetype": "text/x-python",
   "name": "python",
   "nbconvert_exporter": "python",
   "pygments_lexer": "ipython3",
   "version": "3.13.2"
  }
 },
 "nbformat": 4,
 "nbformat_minor": 5
}

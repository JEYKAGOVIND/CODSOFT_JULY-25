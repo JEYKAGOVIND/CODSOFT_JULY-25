{
 "cells": [
  {
   "cell_type": "markdown",
   "id": "c2ae6bec-5d23-4a67-a0e9-7db72f673693",
   "metadata": {},
   "source": [
    "\n",
    "# Importing modules"
   ]
  },
  {
   "cell_type": "code",
   "execution_count": 16,
   "id": "5c314f3c-79bb-438f-ab91-5fcc4bf4f6a7",
   "metadata": {},
   "outputs": [
    {
     "name": "stdout",
     "output_type": "stream",
     "text": [
      "Requirement already satisfied: torch in c:\\users\\jeyka\\appdata\\local\\programs\\python\\python313\\lib\\site-packages (2.7.1)Note: you may need to restart the kernel to use updated packages.\n",
      "\n",
      "Requirement already satisfied: torchvision in c:\\users\\jeyka\\appdata\\local\\programs\\python\\python313\\lib\\site-packages (0.22.1)\n",
      "Requirement already satisfied: pillow in c:\\users\\jeyka\\appdata\\local\\programs\\python\\python313\\lib\\site-packages (11.1.0)\n",
      "Requirement already satisfied: filelock in c:\\users\\jeyka\\appdata\\local\\programs\\python\\python313\\lib\\site-packages (from torch) (3.17.0)\n",
      "Requirement already satisfied: typing-extensions>=4.10.0 in c:\\users\\jeyka\\appdata\\local\\programs\\python\\python313\\lib\\site-packages (from torch) (4.12.2)\n",
      "Requirement already satisfied: sympy>=1.13.3 in c:\\users\\jeyka\\appdata\\local\\programs\\python\\python313\\lib\\site-packages (from torch) (1.14.0)\n",
      "Requirement already satisfied: networkx in c:\\users\\jeyka\\appdata\\local\\programs\\python\\python313\\lib\\site-packages (from torch) (3.5)\n",
      "Requirement already satisfied: jinja2 in c:\\users\\jeyka\\appdata\\local\\programs\\python\\python313\\lib\\site-packages (from torch) (3.1.5)\n",
      "Requirement already satisfied: fsspec in c:\\users\\jeyka\\appdata\\local\\programs\\python\\python313\\lib\\site-packages (from torch) (2025.5.1)\n",
      "Requirement already satisfied: setuptools in c:\\users\\jeyka\\appdata\\local\\programs\\python\\python313\\lib\\site-packages (from torch) (75.8.1)\n",
      "Requirement already satisfied: numpy in c:\\users\\jeyka\\appdata\\local\\programs\\python\\python313\\lib\\site-packages (from torchvision) (2.2.3)\n",
      "Requirement already satisfied: mpmath<1.4,>=1.1.0 in c:\\users\\jeyka\\appdata\\local\\programs\\python\\python313\\lib\\site-packages (from sympy>=1.13.3->torch) (1.3.0)\n",
      "Requirement already satisfied: MarkupSafe>=2.0 in c:\\users\\jeyka\\appdata\\local\\programs\\python\\python313\\lib\\site-packages (from jinja2->torch) (3.0.2)\n"
     ]
    }
   ],
   "source": [
    "pip install torch torchvision pillow\n"
   ]
  },
  {
   "cell_type": "code",
   "execution_count": 17,
   "id": "6ed15eef-1e4a-4bed-b9fc-1e19af378868",
   "metadata": {},
   "outputs": [],
   "source": [
    "import torch\n",
    "import torchvision.transforms as transforms\n",
    "from torchvision.models import resnet50\n",
    "from PIL import Image\n",
    "import pickle\n",
    "import numpy as np\n",
    "from torch.nn.utils.rnn import pack_padded_sequence\n",
    "import torch.nn as nn\n",
    "import torch.optim as optim\n",
    "     "
   ]
  },
  {
   "cell_type": "markdown",
   "id": "9611b638-f3ec-4e3c-ac26-78861b49d202",
   "metadata": {},
   "source": [
    "# Load pre-trained ResNet model for feature extraction"
   ]
  },
  {
   "cell_type": "code",
   "execution_count": 18,
   "id": "ad5dee64-e62d-4f8a-bbfd-cf721a3da1d1",
   "metadata": {},
   "outputs": [],
   "source": [
    "class EncoderCNN(nn.Module):\n",
    "    def __init__(self, embed_size):\n",
    "        super(EncoderCNN, self).__init__()\n",
    "        resnet = resnet50(pretrained=True)\n",
    "        modules = list(resnet.children())[:-1]  # Remove the last fully connected layer\n",
    "        self.resnet = nn.Sequential(*modules)\n",
    "        self.linear = nn.Linear(resnet.fc.in_features, embed_size)\n",
    "        self.bn = nn.BatchNorm1d(embed_size, momentum=0.01)\n",
    "\n",
    "    def forward(self, images):\n",
    "        features = self.resnet(images)\n",
    "        features = features.view(features.size(0), -1)\n",
    "        features = self.bn(self.linear(features))\n",
    "        return features\n",
    "     "
   ]
  },
  {
   "cell_type": "markdown",
   "id": "c44d8685-325a-4c29-aa9e-71d98d0d5ffd",
   "metadata": {},
   "source": [
    "# LSTM-based Decoder for caption generation"
   ]
  },
  {
   "cell_type": "code",
   "execution_count": 19,
   "id": "125a6786-5842-4dcd-ad41-980d4bda0347",
   "metadata": {},
   "outputs": [],
   "source": [
    "class DecoderRNN(nn.Module):\n",
    "    def __init__(self, embed_size, hidden_size, vocab_size, num_layers):\n",
    "        super(DecoderRNN, self).__init__()\n",
    "        self.embed = nn.Embedding(vocab_size, embed_size)\n",
    "        self.lstm = nn.LSTM(embed_size, hidden_size, num_layers, batch_first=True)\n",
    "        self.linear = nn.Linear(hidden_size, vocab_size)\n",
    "        self.dropout = nn.Dropout(0.5)\n",
    "\n",
    "    def forward(self, features, captions, lengths):\n",
    "        embeddings = self.embed(captions)\n",
    "        embeddings = torch.cat((features.unsqueeze(1), embeddings), 1)\n",
    "        packed = pack_padded_sequence(embeddings, lengths, batch_first=True, enforce_sorted=False)\n",
    "        hiddens, _ = self.lstm(packed)\n",
    "        outputs = self.linear(hiddens[0])\n",
    "        return outputs"
   ]
  },
  {
   "cell_type": "markdown",
   "id": "783dd099-3903-4cc9-b0c5-4b03d4ae74a6",
   "metadata": {},
   "source": [
    "#  Load Image and Preprocess"
   ]
  },
  {
   "cell_type": "code",
   "execution_count": 20,
   "id": "aa904e8c-ffe3-46b1-beda-d6a61d06dc5b",
   "metadata": {},
   "outputs": [],
   "source": [
    "def load_image(image_path, transform=None):\n",
    "    image = Image.open(image_path).convert('RGB')\n",
    "    if transform is not None:\n",
    "        image = transform(image).unsqueeze(0)  # Add batch dimension\n",
    "    return image"
   ]
  },
  {
   "cell_type": "markdown",
   "id": "edf6ecef-f1c8-4d86-a413-01bd6d3b1d0a",
   "metadata": {},
   "source": [
    "#  Transformations"
   ]
  },
  {
   "cell_type": "code",
   "execution_count": 21,
   "id": "fc4a76b7-5209-4b84-8f9f-6603d81dfefb",
   "metadata": {},
   "outputs": [],
   "source": [
    " transform = transforms.Compose([\n",
    "    transforms.Resize((224, 224)),\n",
    "    transforms.ToTensor(),\n",
    "    transforms.Normalize((0.485, 0.456, 0.406), (0.229, 0.224, 0.225))\n",
    "])\n",
    "     "
   ]
  },
  {
   "cell_type": "code",
   "execution_count": 25,
   "id": "5bbf37a9-29b5-4215-af27-b7b1eb9726e1",
   "metadata": {},
   "outputs": [
    {
     "name": "stdout",
     "output_type": "stream",
     "text": [
      "Extracted Features Shape: torch.Size([1, 256])\n"
     ]
    }
   ],
   "source": [
    "\n",
    "if __name__ == \"__main__\":\n",
    "    embed_size = 256\n",
    "    hidden_size = 512\n",
    "    vocab_size = 5000  # Assume a vocabulary size\n",
    "    num_layers = 1\n",
    "\n",
    "    encoder = EncoderCNN(embed_size)\n",
    "    decoder = DecoderRNN(embed_size, hidden_size, vocab_size, num_layers)\n",
    "\n",
    "    # Load an example image\n",
    "    image_path = r\"C:\\Users\\jeyka\\Downloads\\cat.jpg\"\n",
    "\n",
    "    image = load_image(image_path, transform)\n",
    "\n",
    "    # Extract features\n",
    "    encoder.eval()  # Set to evaluation mode\n",
    "\n",
    "# Extract features\n",
    "    with torch.no_grad():\n",
    "        features = encoder(image)\n",
    "\n",
    "    print(\"Extracted Features Shape:\", features.shape)"
   ]
  },
  {
   "cell_type": "code",
   "execution_count": null,
   "id": "b6be19df-16e0-45ba-b1d5-a969caa0df54",
   "metadata": {},
   "outputs": [],
   "source": []
  }
 ],
 "metadata": {
  "kernelspec": {
   "display_name": "Python 3 (ipykernel)",
   "language": "python",
   "name": "python3"
  },
  "language_info": {
   "codemirror_mode": {
    "name": "ipython",
    "version": 3
   },
   "file_extension": ".py",
   "mimetype": "text/x-python",
   "name": "python",
   "nbconvert_exporter": "python",
   "pygments_lexer": "ipython3",
   "version": "3.13.2"
  }
 },
 "nbformat": 4,
 "nbformat_minor": 5
}

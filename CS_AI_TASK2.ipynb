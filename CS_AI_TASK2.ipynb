{
 "cells": [
  {
   "cell_type": "code",
   "execution_count": 1,
   "id": "3eac690c-3b6f-4be3-ba2a-9f92502bcee0",
   "metadata": {},
   "outputs": [
    {
     "name": "stdout",
     "output_type": "stream",
     "text": [
      "Welcome to Tic-Tac-Toe! You are X, AI is O.\n",
      "  |   |  \n",
      "--+---+--\n",
      "  |   |  \n",
      "--+---+--\n",
      "  |   |  \n"
     ]
    },
    {
     "name": "stdin",
     "output_type": "stream",
     "text": [
      "Enter your move (1-9):  3\n"
     ]
    },
    {
     "name": "stdout",
     "output_type": "stream",
     "text": [
      "  |   | X\n",
      "--+---+--\n",
      "  |   |  \n",
      "--+---+--\n",
      "  |   |  \n",
      "\n",
      "AI chooses: 5\n",
      "  |   | X\n",
      "--+---+--\n",
      "  | O |  \n",
      "--+---+--\n",
      "  |   |  \n"
     ]
    },
    {
     "name": "stdin",
     "output_type": "stream",
     "text": [
      "Enter your move (1-9):  5\n"
     ]
    },
    {
     "name": "stdout",
     "output_type": "stream",
     "text": [
      "Cell already occupied! Choose another.\n"
     ]
    },
    {
     "name": "stdin",
     "output_type": "stream",
     "text": [
      "Enter your move (1-9):  9\n"
     ]
    },
    {
     "name": "stdout",
     "output_type": "stream",
     "text": [
      "  |   | X\n",
      "--+---+--\n",
      "  | O |  \n",
      "--+---+--\n",
      "  |   | X\n",
      "\n",
      "AI chooses: 6\n",
      "  |   | X\n",
      "--+---+--\n",
      "  | O | O\n",
      "--+---+--\n",
      "  |   | X\n"
     ]
    },
    {
     "name": "stdin",
     "output_type": "stream",
     "text": [
      "Enter your move (1-9):  4\n"
     ]
    },
    {
     "name": "stdout",
     "output_type": "stream",
     "text": [
      "  |   | X\n",
      "--+---+--\n",
      "X | O | O\n",
      "--+---+--\n",
      "  |   | X\n",
      "\n",
      "AI chooses: 1\n",
      "O |   | X\n",
      "--+---+--\n",
      "X | O | O\n",
      "--+---+--\n",
      "  |   | X\n"
     ]
    },
    {
     "name": "stdin",
     "output_type": "stream",
     "text": [
      "Enter your move (1-9):  1\n"
     ]
    },
    {
     "name": "stdout",
     "output_type": "stream",
     "text": [
      "Cell already occupied! Choose another.\n"
     ]
    },
    {
     "name": "stdin",
     "output_type": "stream",
     "text": [
      "Enter your move (1-9):  2\n"
     ]
    },
    {
     "name": "stdout",
     "output_type": "stream",
     "text": [
      "O | X | X\n",
      "--+---+--\n",
      "X | O | O\n",
      "--+---+--\n",
      "  |   | X\n",
      "\n",
      "AI chooses: 7\n",
      "O | X | X\n",
      "--+---+--\n",
      "X | O | O\n",
      "--+---+--\n",
      "O |   | X\n"
     ]
    },
    {
     "name": "stdin",
     "output_type": "stream",
     "text": [
      "Enter your move (1-9):  8\n"
     ]
    },
    {
     "name": "stdout",
     "output_type": "stream",
     "text": [
      "O | X | X\n",
      "--+---+--\n",
      "X | O | O\n",
      "--+---+--\n",
      "O | X | X\n",
      "It's a draw! 😐\n"
     ]
    }
   ],
   "source": [
    "import math\n",
    "\n",
    "# Initialize board\n",
    "board = [\" \" for _ in range(9)]  # 3x3 board stored in a list\n",
    "\n",
    "def print_board():\n",
    "    \"\"\"Prints the Tic-Tac-Toe board\"\"\"\n",
    "    for i in range(0, 9, 3):\n",
    "        print(f\"{board[i]} | {board[i+1]} | {board[i+2]}\")\n",
    "        if i < 6:\n",
    "            print(\"--+---+--\")\n",
    "\n",
    "def is_winner(player):\n",
    "    \"\"\"Checks if a player has won\"\"\"\n",
    "    win_conditions = [\n",
    "        [0, 1, 2], [3, 4, 5], [6, 7, 8],  # Rows\n",
    "        [0, 3, 6], [1, 4, 7], [2, 5, 8],  # Columns\n",
    "        [0, 4, 8], [2, 4, 6]              # Diagonals\n",
    "    ]\n",
    "    return any(all(board[pos] == player for pos in condition) for condition in win_conditions)\n",
    "\n",
    "def is_draw():\n",
    "    \"\"\"Checks if the game is a draw\"\"\"\n",
    "    return \" \" not in board\n",
    "\n",
    "def minimax(is_maximizing):\n",
    "    \"\"\"Minimax algorithm to find the best move for AI\"\"\"\n",
    "    if is_winner(\"O\"):  # AI wins\n",
    "        return 1\n",
    "    if is_winner(\"X\"):  # Human wins\n",
    "        return -1\n",
    "    if is_draw():  # Draw\n",
    "        return 0\n",
    "\n",
    "    if is_maximizing:\n",
    "        best_score = -math.inf\n",
    "        for i in range(9):\n",
    "            if board[i] == \" \":\n",
    "                board[i] = \"O\"\n",
    "                score = minimax(False)\n",
    "                board[i] = \" \"\n",
    "                best_score = max(best_score, score)\n",
    "        return best_score\n",
    "    else:\n",
    "        best_score = math.inf\n",
    "        for i in range(9):\n",
    "            if board[i] == \" \":\n",
    "                board[i] = \"X\"\n",
    "                score = minimax(True)\n",
    "                board[i] = \" \"\n",
    "                best_score = min(best_score, score)\n",
    "        return best_score\n",
    "\n",
    "def best_move():\n",
    "    \"\"\"Finds the best move for the AI using Minimax\"\"\"\n",
    "    best_score = -math.inf\n",
    "    move = -1\n",
    "    for i in range(9):\n",
    "        if board[i] == \" \":\n",
    "            board[i] = \"O\"\n",
    "            score = minimax(False)\n",
    "            board[i] = \" \"\n",
    "            if score > best_score:\n",
    "                best_score = score\n",
    "                move = i\n",
    "    return move\n",
    "\n",
    "def play():\n",
    "    \"\"\"Main game loop\"\"\"\n",
    "    print(\"Welcome to Tic-Tac-Toe! You are X, AI is O.\")\n",
    "    print_board()\n",
    "\n",
    "    for turn in range(9):\n",
    "        if turn % 2 == 0:  # Human's turn\n",
    "            while True:\n",
    "                try:\n",
    "                    move = int(input(\"Enter your move (1-9): \")) - 1\n",
    "                    if board[move] == \" \":\n",
    "                        board[move] = \"X\"\n",
    "                        break\n",
    "                    else:\n",
    "                        print(\"Cell already occupied! Choose another.\")\n",
    "                except (ValueError, IndexError):\n",
    "                    print(\"Invalid input! Enter a number between 1-9.\")\n",
    "        else:  # AI's turn\n",
    "            move = best_move()\n",
    "            board[move] = \"O\"\n",
    "            print(\"\\nAI chooses:\", move + 1)\n",
    "\n",
    "        print_board()\n",
    "\n",
    "        if is_winner(\"X\"):\n",
    "            print(\"Congratulations! You win! 🎉\")\n",
    "            return\n",
    "        if is_winner(\"O\"):\n",
    "            print(\"AI wins! Better luck next time. 🤖\")\n",
    "            return\n",
    "        if is_draw():\n",
    "            print(\"It's a draw! 😐\")\n",
    "            return\n",
    "\n",
    "# Start the game\n",
    "play()"
   ]
  },
  {
   "cell_type": "code",
   "execution_count": null,
   "id": "8daca026-26ef-41ed-ab52-6dcb092ddb08",
   "metadata": {},
   "outputs": [],
   "source": []
  }
 ],
 "metadata": {
  "kernelspec": {
   "display_name": "Python 3 (ipykernel)",
   "language": "python",
   "name": "python3"
  },
  "language_info": {
   "codemirror_mode": {
    "name": "ipython",
    "version": 3
   },
   "file_extension": ".py",
   "mimetype": "text/x-python",
   "name": "python",
   "nbconvert_exporter": "python",
   "pygments_lexer": "ipython3",
   "version": "3.13.2"
  }
 },
 "nbformat": 4,
 "nbformat_minor": 5
}
